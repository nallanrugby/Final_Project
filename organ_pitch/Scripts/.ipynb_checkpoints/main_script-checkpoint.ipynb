{
 "cells": [
  {
   "cell_type": "markdown",
   "metadata": {},
   "source": [
    "# Main Script for Final Project"
   ]
  },
  {
   "cell_type": "markdown",
   "metadata": {},
   "source": [
    "### T. Martz-Oberlander, 2015-11-10\n",
    "### Change in pitch of a pipe organ from CO2"
   ]
  },
  {
   "cell_type": "markdown",
   "metadata": {},
   "source": [
    "   This script looks for mathematical relationships between CO2 concentration changes and pitch changes from a pipe organ. This script uploads, cleans data and organizes new dataframes, creates figures, and performs statistical tests on the relationships between variable CO2 and frequency of sound from a note played on a pipe organ.\n",
    "   \n",
    "   Here I pursue data analysis route 1 (as mentionted in my notebook.md file), which involves comparing one pitch dataframe with one dataframe of environmental characteristics taken at one sensor location. Both dataframes are compared by the time of data recorded."
   ]
  },
  {
   "cell_type": "code",
   "execution_count": 11,
   "metadata": {
    "collapsed": true
   },
   "outputs": [],
   "source": [
    "# I import useful libraries (with functions) so I can visualize my data\n",
    "# I use Pandas because this dataset has word/string column titles and I like the readability features of commands and finish visual products that Pandas offers\n",
    "\n",
    "import pandas as pd\n",
    "import matplotlib.pyplot as plt\n",
    "import re\n",
    "import numpy as np\n",
    "\n",
    "%matplotlib inline\n",
    "\n",
    "#I want to be able to easily scroll through this notebook so I limit the length of the appearance of my dataframes \n",
    "from pandas import set_option\n",
    "set_option('display.max_rows', 10)"
   ]
  },
  {
   "cell_type": "markdown",
   "metadata": {},
   "source": [
    "### Uploaded data into Python "
   ]
  },
  {
   "cell_type": "markdown",
   "metadata": {},
   "source": [
    "    First I upload my data sets. I am working with two: one for pitch measurements and another for environmental characteristics (CO2, temperature (deg C), and relative humidity (RH) (%) measurements). My data comes from environmental sensing logger devices in the \"Choir Division\" section of the organ consul. "
   ]
  },
  {
   "cell_type": "code",
   "execution_count": null,
   "metadata": {
    "collapsed": false
   },
   "outputs": [],
   "source": []
  },
  {
   "cell_type": "code",
   "execution_count": 32,
   "metadata": {
    "collapsed": false
   },
   "outputs": [
    {
     "data": {
      "text/html": [
       "<div>\n",
       "<table border=\"1\" class=\"dataframe\">\n",
       "  <thead>\n",
       "    <tr style=\"text-align: right;\">\n",
       "      <th></th>\n",
       "      <th>test</th>\n",
       "      <th>Date_time</th>\n",
       "      <th>temp</th>\n",
       "      <th>RH</th>\n",
       "      <th>CO2_1_ppm</th>\n",
       "      <th>CO2_2_ppm</th>\n",
       "    </tr>\n",
       "  </thead>\n",
       "  <tbody>\n",
       "    <tr>\n",
       "      <th>0</th>\n",
       "      <td>1</td>\n",
       "      <td>04/17/10 11:00:00  AM</td>\n",
       "      <td>20.650</td>\n",
       "      <td>35.046</td>\n",
       "      <td>452.4</td>\n",
       "      <td>689.9</td>\n",
       "    </tr>\n",
       "    <tr>\n",
       "      <th>1</th>\n",
       "      <td>2</td>\n",
       "      <td>04/17/10 11:02:00  AM</td>\n",
       "      <td>20.579</td>\n",
       "      <td>35.105</td>\n",
       "      <td>450.5</td>\n",
       "      <td>677.0</td>\n",
       "    </tr>\n",
       "    <tr>\n",
       "      <th>2</th>\n",
       "      <td>3</td>\n",
       "      <td>04/17/10 11:04:00  AM</td>\n",
       "      <td>20.507</td>\n",
       "      <td>35.229</td>\n",
       "      <td>450.5</td>\n",
       "      <td>663.6</td>\n",
       "    </tr>\n",
       "    <tr>\n",
       "      <th>3</th>\n",
       "      <td>4</td>\n",
       "      <td>04/17/10 11:06:00  AM</td>\n",
       "      <td>20.460</td>\n",
       "      <td>35.291</td>\n",
       "      <td>448.7</td>\n",
       "      <td>652.0</td>\n",
       "    </tr>\n",
       "    <tr>\n",
       "      <th>4</th>\n",
       "      <td>5</td>\n",
       "      <td>04/17/10 11:08:00  AM</td>\n",
       "      <td>20.412</td>\n",
       "      <td>35.352</td>\n",
       "      <td>442.0</td>\n",
       "      <td>641.0</td>\n",
       "    </tr>\n",
       "    <tr>\n",
       "      <th>...</th>\n",
       "      <td>...</td>\n",
       "      <td>...</td>\n",
       "      <td>...</td>\n",
       "      <td>...</td>\n",
       "      <td>...</td>\n",
       "      <td>...</td>\n",
       "    </tr>\n",
       "    <tr>\n",
       "      <th>10853</th>\n",
       "      <td>10854</td>\n",
       "      <td>2005-02-10 12:46</td>\n",
       "      <td>21.581</td>\n",
       "      <td>44.604</td>\n",
       "      <td>501.2</td>\n",
       "      <td>483.5</td>\n",
       "    </tr>\n",
       "    <tr>\n",
       "      <th>10854</th>\n",
       "      <td>10855</td>\n",
       "      <td>2005-02-10 12:48</td>\n",
       "      <td>21.581</td>\n",
       "      <td>44.604</td>\n",
       "      <td>504.3</td>\n",
       "      <td>482.9</td>\n",
       "    </tr>\n",
       "    <tr>\n",
       "      <th>10855</th>\n",
       "      <td>10856</td>\n",
       "      <td>2005-02-10 12:50</td>\n",
       "      <td>21.581</td>\n",
       "      <td>44.604</td>\n",
       "      <td>503.7</td>\n",
       "      <td>482.3</td>\n",
       "    </tr>\n",
       "    <tr>\n",
       "      <th>10856</th>\n",
       "      <td>10857</td>\n",
       "      <td>2005-02-10 12:52</td>\n",
       "      <td>21.604</td>\n",
       "      <td>44.575</td>\n",
       "      <td>503.1</td>\n",
       "      <td>481.7</td>\n",
       "    </tr>\n",
       "    <tr>\n",
       "      <th>10857</th>\n",
       "      <td>10858</td>\n",
       "      <td>2005-02-10 12:54</td>\n",
       "      <td>21.604</td>\n",
       "      <td>44.575</td>\n",
       "      <td>498.8</td>\n",
       "      <td>480.5</td>\n",
       "    </tr>\n",
       "  </tbody>\n",
       "</table>\n",
       "<p>10858 rows × 6 columns</p>\n",
       "</div>"
      ],
      "text/plain": [
       "        test              Date_time    temp      RH  CO2_1_ppm  CO2_2_ppm\n",
       "0          1  04/17/10 11:00:00  AM  20.650  35.046      452.4      689.9\n",
       "1          2  04/17/10 11:02:00  AM  20.579  35.105      450.5      677.0\n",
       "2          3  04/17/10 11:04:00  AM  20.507  35.229      450.5      663.6\n",
       "3          4  04/17/10 11:06:00  AM  20.460  35.291      448.7      652.0\n",
       "4          5  04/17/10 11:08:00  AM  20.412  35.352      442.0      641.0\n",
       "...      ...                    ...     ...     ...        ...        ...\n",
       "10853  10854       2005-02-10 12:46  21.581  44.604      501.2      483.5\n",
       "10854  10855       2005-02-10 12:48  21.581  44.604      504.3      482.9\n",
       "10855  10856       2005-02-10 12:50  21.581  44.604      503.7      482.3\n",
       "10856  10857       2005-02-10 12:52  21.604  44.575      503.1      481.7\n",
       "10857  10858       2005-02-10 12:54  21.604  44.575      498.8      480.5\n",
       "\n",
       "[10858 rows x 6 columns]"
      ]
     },
     "execution_count": 32,
     "metadata": {},
     "output_type": "execute_result"
    }
   ],
   "source": [
    "#I import the environmental characteristics data file\n",
    "\n",
    "#comment by nick changed the path you upload that data from making in compatible with clone copies of your project\n",
    "env_choir_div=pd.read_table('../Data/CO2May.csv', sep=',')\n",
    "\n",
    "#comment by nick here i am resigning colunm names to remove blank space and units. \n",
    "#assigning columns names \n",
    "env_choir_div.columns=[['test','Date_time','temp','RH','CO2_1_ppm','CO2_2_ppm']]\n",
    "\n",
    "#I display my dataframe\n",
    "env_choir_div"
   ]
  },
  {
   "cell_type": "code",
   "execution_count": 35,
   "metadata": {
    "collapsed": false
   },
   "outputs": [
    {
     "name": "stdout",
     "output_type": "stream",
     "text": [
      "        test           Date_time    temp      RH  CO2_1_ppm  CO2_2_ppm\n",
      "0          1 2010-04-17 11:00:00  20.650  35.046      452.4      689.9\n",
      "1          2 2010-04-17 11:02:00  20.579  35.105      450.5      677.0\n",
      "2          3 2010-04-17 11:04:00  20.507  35.229      450.5      663.6\n",
      "3          4 2010-04-17 11:06:00  20.460  35.291      448.7      652.0\n",
      "4          5 2010-04-17 11:08:00  20.412  35.352      442.0      641.0\n",
      "...      ...                 ...     ...     ...        ...        ...\n",
      "10853  10854 2005-02-10 12:46:00  21.581  44.604      501.2      483.5\n",
      "10854  10855 2005-02-10 12:48:00  21.581  44.604      504.3      482.9\n",
      "10855  10856 2005-02-10 12:50:00  21.581  44.604      503.7      482.3\n",
      "10856  10857 2005-02-10 12:52:00  21.604  44.575      503.1      481.7\n",
      "10857  10858 2005-02-10 12:54:00  21.604  44.575      498.8      480.5\n",
      "\n",
      "[10858 rows x 6 columns]\n"
     ]
    },
    {
     "data": {
      "text/plain": [
       "test                  int64\n",
       "Date_time    datetime64[ns]\n",
       "temp                float64\n",
       "RH                  float64\n",
       "CO2_1_ppm           float64\n",
       "CO2_2_ppm           float64\n",
       "dtype: object"
      ]
     },
     "execution_count": 35,
     "metadata": {},
     "output_type": "execute_result"
    }
   ],
   "source": [
    "#comment by nick changing your data time variable to actual values of time. \n",
    "env_choir_div['Date_time']= pd.to_datetime(env_choir_div['Date_time'])\n",
    "\n",
    "#print the new table and the type of data. \n",
    "print(env_choir_div)\n",
    "\n",
    "env_choir_div.dtypes"
   ]
  },
  {
   "cell_type": "markdown",
   "metadata": {},
   "source": [
    "comment by nick now the computer understand that date time is representing the date and time.  the same should be done for all dataframes that have a date time variable. if you see the type of data is called datetime64 not an object.  "
   ]
  },
  {
   "cell_type": "markdown",
   "metadata": {
    "collapsed": true
   },
   "source": [
    "Now, I will upload the pitch data so I can compare change in pitch of certain notes and change in environmental characteristics."
   ]
  },
  {
   "cell_type": "code",
   "execution_count": 14,
   "metadata": {
    "collapsed": false
   },
   "outputs": [
    {
     "data": {
      "text/html": [
       "<div>\n",
       "<table border=\"1\" class=\"dataframe\">\n",
       "  <thead>\n",
       "    <tr style=\"text-align: right;\">\n",
       "      <th></th>\n",
       "      <th>time</th>\n",
       "      <th>div</th>\n",
       "      <th>note</th>\n",
       "      <th>freq1</th>\n",
       "      <th>freq2</th>\n",
       "      <th>freq3</th>\n",
       "      <th>freq4</th>\n",
       "      <th>freq5</th>\n",
       "      <th>freq6</th>\n",
       "      <th>freq7</th>\n",
       "      <th>freq8</th>\n",
       "      <th>freq9</th>\n",
       "    </tr>\n",
       "  </thead>\n",
       "  <tbody>\n",
       "    <tr>\n",
       "      <th>0</th>\n",
       "      <td>2010-04-13 8:37</td>\n",
       "      <td>pedal</td>\n",
       "      <td>c3</td>\n",
       "      <td>131.17</td>\n",
       "      <td>131.20</td>\n",
       "      <td>131.18</td>\n",
       "      <td>131.11</td>\n",
       "      <td>131.17</td>\n",
       "      <td>131.14</td>\n",
       "      <td>131.21</td>\n",
       "      <td>NaN</td>\n",
       "      <td>NaN</td>\n",
       "    </tr>\n",
       "    <tr>\n",
       "      <th>1</th>\n",
       "      <td>2010-04-13 8:37</td>\n",
       "      <td>pedal</td>\n",
       "      <td>c4</td>\n",
       "      <td>262.08</td>\n",
       "      <td>262.12</td>\n",
       "      <td>262.09</td>\n",
       "      <td>262.05</td>\n",
       "      <td>262.07</td>\n",
       "      <td>262.10</td>\n",
       "      <td>262.08</td>\n",
       "      <td>NaN</td>\n",
       "      <td>NaN</td>\n",
       "    </tr>\n",
       "    <tr>\n",
       "      <th>2</th>\n",
       "      <td>2010-04-13 8:40</td>\n",
       "      <td>swell</td>\n",
       "      <td>c3</td>\n",
       "      <td>131.42</td>\n",
       "      <td>131.47</td>\n",
       "      <td>131.45</td>\n",
       "      <td>131.47</td>\n",
       "      <td>131.50</td>\n",
       "      <td>131.47</td>\n",
       "      <td>131.45</td>\n",
       "      <td>NaN</td>\n",
       "      <td>NaN</td>\n",
       "    </tr>\n",
       "    <tr>\n",
       "      <th>3</th>\n",
       "      <td>2010-04-13 8:40</td>\n",
       "      <td>swell</td>\n",
       "      <td>c4</td>\n",
       "      <td>262.9</td>\n",
       "      <td>262.87</td>\n",
       "      <td>262.84</td>\n",
       "      <td>262.85</td>\n",
       "      <td>262.90</td>\n",
       "      <td>262.87</td>\n",
       "      <td>262.88</td>\n",
       "      <td>NaN</td>\n",
       "      <td>NaN</td>\n",
       "    </tr>\n",
       "    <tr>\n",
       "      <th>4</th>\n",
       "      <td>2010-04-13 8:42</td>\n",
       "      <td>great</td>\n",
       "      <td>c4</td>\n",
       "      <td>262.04</td>\n",
       "      <td>262.05</td>\n",
       "      <td>262.01</td>\n",
       "      <td>262.03</td>\n",
       "      <td>261.97</td>\n",
       "      <td>261.98</td>\n",
       "      <td>261.99</td>\n",
       "      <td>NaN</td>\n",
       "      <td>NaN</td>\n",
       "    </tr>\n",
       "    <tr>\n",
       "      <th>...</th>\n",
       "      <td>...</td>\n",
       "      <td>...</td>\n",
       "      <td>...</td>\n",
       "      <td>...</td>\n",
       "      <td>...</td>\n",
       "      <td>...</td>\n",
       "      <td>...</td>\n",
       "      <td>...</td>\n",
       "      <td>...</td>\n",
       "      <td>...</td>\n",
       "      <td>...</td>\n",
       "      <td>...</td>\n",
       "    </tr>\n",
       "    <tr>\n",
       "      <th>52</th>\n",
       "      <td>2010-04-17 10:35</td>\n",
       "      <td>pedal</td>\n",
       "      <td>c4</td>\n",
       "      <td>261.95</td>\n",
       "      <td>261.95</td>\n",
       "      <td>262.02</td>\n",
       "      <td>262.00</td>\n",
       "      <td>261.97</td>\n",
       "      <td>262.01</td>\n",
       "      <td>261.95</td>\n",
       "      <td>261.97</td>\n",
       "      <td>NaN</td>\n",
       "    </tr>\n",
       "    <tr>\n",
       "      <th>53</th>\n",
       "      <td>2010-04-17 10:37</td>\n",
       "      <td>great</td>\n",
       "      <td>c4</td>\n",
       "      <td>261.69</td>\n",
       "      <td>261.69</td>\n",
       "      <td>261.68</td>\n",
       "      <td>261.71</td>\n",
       "      <td>261.74</td>\n",
       "      <td>261.66</td>\n",
       "      <td>261.68</td>\n",
       "      <td>261.69</td>\n",
       "      <td>261.67</td>\n",
       "    </tr>\n",
       "    <tr>\n",
       "      <th>54</th>\n",
       "      <td>NaN</td>\n",
       "      <td>2010-04-17 9:54</td>\n",
       "      <td>choir</td>\n",
       "      <td>c5</td>\n",
       "      <td>523.73</td>\n",
       "      <td>523.61</td>\n",
       "      <td>523.66</td>\n",
       "      <td>523.77</td>\n",
       "      <td>523.63</td>\n",
       "      <td>523.65</td>\n",
       "      <td>523.69</td>\n",
       "      <td>NaN</td>\n",
       "    </tr>\n",
       "    <tr>\n",
       "      <th>55</th>\n",
       "      <td>NaN</td>\n",
       "      <td>2010-04-17 10:35</td>\n",
       "      <td>pedal</td>\n",
       "      <td>c4</td>\n",
       "      <td>261.95</td>\n",
       "      <td>261.95</td>\n",
       "      <td>262.02</td>\n",
       "      <td>262.00</td>\n",
       "      <td>261.97</td>\n",
       "      <td>262.01</td>\n",
       "      <td>261.95</td>\n",
       "      <td>261.97</td>\n",
       "    </tr>\n",
       "    <tr>\n",
       "      <th>56</th>\n",
       "      <td>NaN</td>\n",
       "      <td>2010-04-17 10:37</td>\n",
       "      <td>great</td>\n",
       "      <td>c4</td>\n",
       "      <td>261.69</td>\n",
       "      <td>261.69</td>\n",
       "      <td>261.68</td>\n",
       "      <td>261.71</td>\n",
       "      <td>261.74</td>\n",
       "      <td>261.66</td>\n",
       "      <td>261.68</td>\n",
       "      <td>261.69</td>\n",
       "    </tr>\n",
       "  </tbody>\n",
       "</table>\n",
       "<p>57 rows × 12 columns</p>\n",
       "</div>"
      ],
      "text/plain": [
       "                time               div   note   freq1   freq2   freq3   freq4  \\\n",
       "0    2010-04-13 8:37             pedal     c3  131.17  131.20  131.18  131.11   \n",
       "1    2010-04-13 8:37             pedal     c4  262.08  262.12  262.09  262.05   \n",
       "2    2010-04-13 8:40             swell     c3  131.42  131.47  131.45  131.47   \n",
       "3    2010-04-13 8:40             swell     c4   262.9  262.87  262.84  262.85   \n",
       "4    2010-04-13 8:42             great     c4  262.04  262.05  262.01  262.03   \n",
       "..               ...               ...    ...     ...     ...     ...     ...   \n",
       "52  2010-04-17 10:35             pedal     c4  261.95  261.95  262.02  262.00   \n",
       "53  2010-04-17 10:37             great     c4  261.69  261.69  261.68  261.71   \n",
       "54               NaN   2010-04-17 9:54  choir      c5  523.73  523.61  523.66   \n",
       "55               NaN  2010-04-17 10:35  pedal      c4  261.95  261.95  262.02   \n",
       "56               NaN  2010-04-17 10:37  great      c4  261.69  261.69  261.68   \n",
       "\n",
       "     freq5   freq6   freq7   freq8   freq9  \n",
       "0   131.17  131.14  131.21     NaN     NaN  \n",
       "1   262.07  262.10  262.08     NaN     NaN  \n",
       "2   131.50  131.47  131.45     NaN     NaN  \n",
       "3   262.90  262.87  262.88     NaN     NaN  \n",
       "4   261.97  261.98  261.99     NaN     NaN  \n",
       "..     ...     ...     ...     ...     ...  \n",
       "52  261.97  262.01  261.95  261.97     NaN  \n",
       "53  261.74  261.66  261.68  261.69  261.67  \n",
       "54  523.77  523.63  523.65  523.69     NaN  \n",
       "55  262.00  261.97  262.01  261.95  261.97  \n",
       "56  261.71  261.74  261.66  261.68  261.69  \n",
       "\n",
       "[57 rows x 12 columns]"
      ]
     },
     "execution_count": 14,
     "metadata": {},
     "output_type": "execute_result"
    }
   ],
   "source": [
    "#I import the environmental characteristics data file\n",
    "\n",
    "#comment by nick changed the path you upload that data from making in compatible with clone copies of your project\n",
    "#comment by nick changed how to read the file from a table to csv file. \n",
    "pitch =pd.read_csv('../Data/pitches.csv', sep=',')\n",
    "\n",
    "#I display my dataframe\n",
    "pitch"
   ]
  },
  {
   "cell_type": "markdown",
   "metadata": {},
   "source": [
    "## Munging data for plotting and stats comparrison--Pitch data"
   ]
  },
  {
   "cell_type": "markdown",
   "metadata": {},
   "source": [
    "### Using regular expressions to find matching dated data points for comparisson"
   ]
  },
  {
   "cell_type": "markdown",
   "metadata": {},
   "source": [
    "To make a meaninful comparisson between pitch and CO2, I need to format my two data files. First, for the pitch.csv file, I select the data that corresponds to the environmental datafile, which are frequency data collected on 2010-04-17 in the \"choir division\". \n",
    "\n",
    "I can make a regular expression to select these rows of pitch/sound frequency data."
   ]
  },
  {
   "cell_type": "markdown",
   "metadata": {},
   "source": [
    "comment by nick \n",
    "\n",
    "i am alittle confused on exactly which variables you would like to select. specific colunms names would help me pin point your direction. "
   ]
  },
  {
   "cell_type": "code",
   "execution_count": null,
   "metadata": {
    "collapsed": true
   },
   "outputs": [],
   "source": [
    "#First, let's work with the pitch. I want to select the \"choir\" values in the \"div[ision\" column.\n",
    "\n",
    "#Then, I can select the data from 2010-04-17 only, which is the date that can be matched with the temp, RH, and CO2 measurements in the oher data file.\n"
   ]
  },
  {
   "cell_type": "code",
   "execution_count": 18,
   "metadata": {
    "collapsed": false
   },
   "outputs": [
    {
     "data": {
      "text/plain": [
       "0        c3\n",
       "1        c4\n",
       "2        c3\n",
       "3        c4\n",
       "4        c4\n",
       "      ...  \n",
       "52       c4\n",
       "53       c4\n",
       "54    choir\n",
       "55    pedal\n",
       "56    great\n",
       "Name: note, dtype: object"
      ]
     },
     "execution_count": 18,
     "metadata": {},
     "output_type": "execute_result"
    }
   ],
   "source": [
    "pitch['note']"
   ]
  },
  {
   "cell_type": "code",
   "execution_count": null,
   "metadata": {
    "collapsed": false
   },
   "outputs": [],
   "source": [
    "import re\n",
    "\n",
    "#I import the file with '\\n' new line separators\n",
    "lines = open('../Data/pitches.csv', 'r').read().strip().split('\\n' )\n",
    "# comment by nick i chagne the path way for grabing your data. so it works for all computers that have a clone of your project. \n",
    "# commment by nick checked if lines was wokring \n",
    "lines\n"
   ]
  },
  {
   "cell_type": "code",
   "execution_count": null,
   "metadata": {
    "collapsed": true
   },
   "outputs": [],
   "source": [
    "#search for '2010' in the 'time' column of the pitch dataframe\n",
    "'2010' in pitch['time'][0] #select one item, the first item [0], from the given array of 2D columns"
   ]
  },
  {
   "cell_type": "code",
   "execution_count": null,
   "metadata": {
    "collapsed": false
   },
   "outputs": [],
   "source": [
    "pitch.loc[('2010-04-17' in pitch['time']), 'time']\n",
    "\n",
    "#I tried using a boolian statement for the pattern in the 'time' column, but\n",
    "#Having a boolian statement causes problems in that I am searching for part of the DateTime values (the date part) and want all time values associated with 2010-04-17.\n",
    "\n",
    "#I also tried RegEx's, but William said that is for a string/list \n",
    "#in a dataframe you should use a search function like the one I tried above\n",
    "\n",
    "#re.search('2010-04-17', pitch) #looking for these date valuesaov\n",
    "\n",
    "#show [new data lines]\n"
   ]
  },
  {
   "cell_type": "code",
   "execution_count": null,
   "metadata": {
    "collapsed": false
   },
   "outputs": [],
   "source": [
    "#I can then make a new dataframe with 2010-04-17 data only\n",
    "\n",
    "17data = "
   ]
  },
  {
   "cell_type": "markdown",
   "metadata": {},
   "source": [
    "I then need to select notes from the \"choir\" cells in the \"div\" column of pitch (because my CO2 readings come from the choir division area in the chapel and so are spacially comparable).  "
   ]
  },
  {
   "cell_type": "code",
   "execution_count": null,
   "metadata": {
    "collapsed": true
   },
   "outputs": [],
   "source": []
  },
  {
   "cell_type": "markdown",
   "metadata": {},
   "source": [
    "### Making a useful/comparable pitch value with mean of all pitch frequencies"
   ]
  },
  {
   "cell_type": "markdown",
   "metadata": {},
   "source": [
    "To make a comparrison between pitch and CO2, I need to find one pitch value for each time sample. I will do this by averaging pitch data points in each row of my \"pitches.csv\" file. "
   ]
  },
  {
   "cell_type": "code",
   "execution_count": 22,
   "metadata": {
    "collapsed": false
   },
   "outputs": [
    {
     "data": {
      "text/plain": [
       "freq2            315.185789\n",
       "freq3            315.180702\n",
       "freq4            315.190702\n",
       "freq5            318.466071\n",
       "freq6            318.110185\n",
       "freq7            321.090816\n",
       "freq8            300.771765\n",
       "freq9            250.025455\n",
       "pitch_average           NaN\n",
       "dtype: float64"
      ]
     },
     "execution_count": 22,
     "metadata": {},
     "output_type": "execute_result"
    }
   ],
   "source": [
    "#I use element-wise mathematics between dataframe cells\n",
    "\n",
    "pitch['pitch_average'] = pitch.mean(columns='freq1' 'freq2' 'freq3' 'freq4' 'freq5' 'freq6' 'freq7' 'freq8' 'freq9')\n",
    "\n",
    "\n",
    "#pitch[[['freq1', 'freq2', 'freq3', 'freq4', 'freq5', pitch_average']]]"
   ]
  },
  {
   "cell_type": "code",
   "execution_count": 20,
   "metadata": {
    "collapsed": false
   },
   "outputs": [
    {
     "ename": "SyntaxError",
     "evalue": "EOL while scanning string literal (<ipython-input-20-2af93edf2621>, line 1)",
     "output_type": "error",
     "traceback": [
      "\u001b[0;36m  File \u001b[0;32m\"<ipython-input-20-2af93edf2621>\"\u001b[0;36m, line \u001b[0;32m1\u001b[0m\n\u001b[0;31m    pitch('freq1', 'freq2',  pitch_average')\u001b[0m\n\u001b[0m                                            ^\u001b[0m\n\u001b[0;31mSyntaxError\u001b[0m\u001b[0;31m:\u001b[0m EOL while scanning string literal\n"
     ]
    }
   ],
   "source": [
    "pitch('freq1', 'freq2',  pitch_average')"
   ]
  },
  {
   "cell_type": "code",
   "execution_count": 24,
   "metadata": {
    "collapsed": false
   },
   "outputs": [
    {
     "data": {
      "text/plain": [
       "time              object\n",
       "div               object\n",
       "note              object\n",
       "freq1             object\n",
       "freq2            float64\n",
       "                  ...   \n",
       "freq6            float64\n",
       "freq7            float64\n",
       "freq8            float64\n",
       "freq9            float64\n",
       "pitch_average    float64\n",
       "dtype: object"
      ]
     },
     "execution_count": 24,
     "metadata": {},
     "output_type": "execute_result"
    }
   ],
   "source": [
    "#I want to find out why the mean pitch values I calculated are NaNs, so I check the type of data in 'pitch average'\n",
    "#np.dtype('pitch_average')\n",
    "\n",
    "#comment by nick variable_that_hold_dataframe.dtypes will show you what type of data you have. \n",
    "pitch.dtypes\n",
    "#how can I check the data type?"
   ]
  },
  {
   "cell_type": "markdown",
   "metadata": {
    "collapsed": true
   },
   "source": [
    "## Munging data for plotting and stats comparrison--Environmental data"
   ]
  },
  {
   "cell_type": "markdown",
   "metadata": {
    "collapsed": true
   },
   "source": [
    "Like I did for pitch.csv, I need to select out the rows of my choir_division.csv file for data logged on 2010-04-17. I will use the similar RegEx to do this"
   ]
  },
  {
   "cell_type": "code",
   "execution_count": 25,
   "metadata": {
    "collapsed": true
   },
   "outputs": [],
   "source": [
    "#call in choir_division.csv with line separation\n",
    "lines = open('../Data/Choir_Division_May.csv', 'r').read().strip().split('\\n' )"
   ]
  },
  {
   "cell_type": "markdown",
   "metadata": {},
   "source": [
    "comment by nick \n",
    "\n",
    "why are you importaning this data as line seperated file? "
   ]
  },
  {
   "cell_type": "code",
   "execution_count": 36,
   "metadata": {
    "collapsed": false,
    "scrolled": true
   },
   "outputs": [
    {
     "data": {
      "text/plain": [
       "test                  int64\n",
       "Date_time    datetime64[ns]\n",
       "temp                float64\n",
       "RH                  float64\n",
       "CO2_1_ppm           float64\n",
       "CO2_2_ppm           float64\n",
       "dtype: object"
      ]
     },
     "execution_count": 36,
     "metadata": {},
     "output_type": "execute_result"
    }
   ],
   "source": [
    "env_choir_div.dtypes"
   ]
  },
  {
   "cell_type": "markdown",
   "metadata": {},
   "source": []
  },
  {
   "cell_type": "code",
   "execution_count": null,
   "metadata": {
    "collapsed": true
   },
   "outputs": [],
   "source": []
  },
  {
   "cell_type": "code",
   "execution_count": 37,
   "metadata": {
    "collapsed": false
   },
   "outputs": [
    {
     "ename": "TypeError",
     "evalue": "expected string or buffer",
     "output_type": "error",
     "traceback": [
      "\u001b[0;31m---------------------------------------------------------------------------\u001b[0m",
      "\u001b[0;31mTypeError\u001b[0m                                 Traceback (most recent call last)",
      "\u001b[0;32m<ipython-input-37-42b65605875b>\u001b[0m in \u001b[0;36m<module>\u001b[0;34m()\u001b[0m\n\u001b[1;32m      3\u001b[0m \u001b[0;34m\u001b[0m\u001b[0m\n\u001b[1;32m      4\u001b[0m \u001b[0;34m\u001b[0m\u001b[0m\n\u001b[0;32m----> 5\u001b[0;31m \u001b[0mre\u001b[0m\u001b[0;34m.\u001b[0m\u001b[0msearch\u001b[0m\u001b[0;34m(\u001b[0m\u001b[0;34m'2010-04-17'\u001b[0m\u001b[0;34m,\u001b[0m \u001b[0menv_choir_div\u001b[0m\u001b[0;34m)\u001b[0m\u001b[0;34m\u001b[0m\u001b[0m\n\u001b[0m\u001b[1;32m      6\u001b[0m \u001b[0;34m\u001b[0m\u001b[0m\n\u001b[1;32m      7\u001b[0m \u001b[0;31m#is my data not in the proper format? I tried using \"env_choir_div\" instead of \"lines\" but the same error message is returned\u001b[0m\u001b[0;34m\u001b[0m\u001b[0;34m\u001b[0m\u001b[0m\n",
      "\u001b[0;32m//anaconda/lib/python3.4/re.py\u001b[0m in \u001b[0;36msearch\u001b[0;34m(pattern, string, flags)\u001b[0m\n\u001b[1;32m    168\u001b[0m     \"\"\"Scan through string looking for a match to the pattern, returning\n\u001b[1;32m    169\u001b[0m     a match object, or None if no match was found.\"\"\"\n\u001b[0;32m--> 170\u001b[0;31m     \u001b[0;32mreturn\u001b[0m \u001b[0m_compile\u001b[0m\u001b[0;34m(\u001b[0m\u001b[0mpattern\u001b[0m\u001b[0;34m,\u001b[0m \u001b[0mflags\u001b[0m\u001b[0;34m)\u001b[0m\u001b[0;34m.\u001b[0m\u001b[0msearch\u001b[0m\u001b[0;34m(\u001b[0m\u001b[0mstring\u001b[0m\u001b[0;34m)\u001b[0m\u001b[0;34m\u001b[0m\u001b[0m\n\u001b[0m\u001b[1;32m    171\u001b[0m \u001b[0;34m\u001b[0m\u001b[0m\n\u001b[1;32m    172\u001b[0m \u001b[0;32mdef\u001b[0m \u001b[0msub\u001b[0m\u001b[0;34m(\u001b[0m\u001b[0mpattern\u001b[0m\u001b[0;34m,\u001b[0m \u001b[0mrepl\u001b[0m\u001b[0;34m,\u001b[0m \u001b[0mstring\u001b[0m\u001b[0;34m,\u001b[0m \u001b[0mcount\u001b[0m\u001b[0;34m=\u001b[0m\u001b[0;36m0\u001b[0m\u001b[0;34m,\u001b[0m \u001b[0mflags\u001b[0m\u001b[0;34m=\u001b[0m\u001b[0;36m0\u001b[0m\u001b[0;34m)\u001b[0m\u001b[0;34m:\u001b[0m\u001b[0;34m\u001b[0m\u001b[0m\n",
      "\u001b[0;31mTypeError\u001b[0m: expected string or buffer"
     ]
    }
   ],
   "source": [
    "#search for lines that contain the given pattern \"2010-04-17\"\n",
    "\n",
    "re.search('2010-04-17', env_choir_div)\n",
    "\n",
    "#is my data not in the proper format? I tried using \"env_choir_div\" instead of \"lines\" but the same error message is returned"
   ]
  },
  {
   "cell_type": "markdown",
   "metadata": {
    "collapsed": true
   },
   "source": [
    "comment by nick.\n",
    "In all i think your problems lie with organiaztion of your data and having that right type of data be precent when calling for it. I managed to change some of your data to the right form but it will need more playing with the get it all done. "
   ]
  },
  {
   "cell_type": "code",
   "execution_count": null,
   "metadata": {
    "collapsed": true
   },
   "outputs": [],
   "source": []
  }
 ],
 "metadata": {
  "kernelspec": {
   "display_name": "Python 3",
   "language": "python",
   "name": "python3"
  },
  "language_info": {
   "codemirror_mode": {
    "name": "ipython",
    "version": 3
   },
   "file_extension": ".py",
   "mimetype": "text/x-python",
   "name": "python",
   "nbconvert_exporter": "python",
   "pygments_lexer": "ipython3",
   "version": "3.4.3"
  }
 },
 "nbformat": 4,
 "nbformat_minor": 0
}
